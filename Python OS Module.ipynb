{
 "cells": [
  {
   "cell_type": "code",
   "execution_count": 3,
   "metadata": {
    "collapsed": true
   },
   "outputs": [],
   "source": [
    "import os"
   ]
  },
  {
   "cell_type": "code",
   "execution_count": 4,
   "metadata": {
    "collapsed": false
   },
   "outputs": [
    {
     "data": {
      "text/plain": [
       "['DirEntry',\n",
       " 'F_OK',\n",
       " 'MutableMapping',\n",
       " 'O_APPEND',\n",
       " 'O_BINARY',\n",
       " 'O_CREAT',\n",
       " 'O_EXCL',\n",
       " 'O_NOINHERIT',\n",
       " 'O_RANDOM',\n",
       " 'O_RDONLY',\n",
       " 'O_RDWR',\n",
       " 'O_SEQUENTIAL',\n",
       " 'O_SHORT_LIVED',\n",
       " 'O_TEMPORARY',\n",
       " 'O_TEXT',\n",
       " 'O_TRUNC',\n",
       " 'O_WRONLY',\n",
       " 'P_DETACH',\n",
       " 'P_NOWAIT',\n",
       " 'P_NOWAITO',\n",
       " 'P_OVERLAY',\n",
       " 'P_WAIT',\n",
       " 'PathLike',\n",
       " 'R_OK',\n",
       " 'SEEK_CUR',\n",
       " 'SEEK_END',\n",
       " 'SEEK_SET',\n",
       " 'TMP_MAX',\n",
       " 'W_OK',\n",
       " 'X_OK',\n",
       " '_Environ',\n",
       " '__all__',\n",
       " '__builtins__',\n",
       " '__cached__',\n",
       " '__doc__',\n",
       " '__file__',\n",
       " '__loader__',\n",
       " '__name__',\n",
       " '__package__',\n",
       " '__spec__',\n",
       " '_execvpe',\n",
       " '_exists',\n",
       " '_exit',\n",
       " '_fspath',\n",
       " '_get_exports_list',\n",
       " '_putenv',\n",
       " '_unsetenv',\n",
       " '_wrap_close',\n",
       " 'abc',\n",
       " 'abort',\n",
       " 'access',\n",
       " 'altsep',\n",
       " 'chdir',\n",
       " 'chmod',\n",
       " 'close',\n",
       " 'closerange',\n",
       " 'cpu_count',\n",
       " 'curdir',\n",
       " 'defpath',\n",
       " 'device_encoding',\n",
       " 'devnull',\n",
       " 'dup',\n",
       " 'dup2',\n",
       " 'environ',\n",
       " 'errno',\n",
       " 'error',\n",
       " 'execl',\n",
       " 'execle',\n",
       " 'execlp',\n",
       " 'execlpe',\n",
       " 'execv',\n",
       " 'execve',\n",
       " 'execvp',\n",
       " 'execvpe',\n",
       " 'extsep',\n",
       " 'fdopen',\n",
       " 'fsdecode',\n",
       " 'fsencode',\n",
       " 'fspath',\n",
       " 'fstat',\n",
       " 'fsync',\n",
       " 'ftruncate',\n",
       " 'get_exec_path',\n",
       " 'get_handle_inheritable',\n",
       " 'get_inheritable',\n",
       " 'get_terminal_size',\n",
       " 'getcwd',\n",
       " 'getcwdb',\n",
       " 'getenv',\n",
       " 'getlogin',\n",
       " 'getpid',\n",
       " 'getppid',\n",
       " 'isatty',\n",
       " 'kill',\n",
       " 'linesep',\n",
       " 'link',\n",
       " 'listdir',\n",
       " 'lseek',\n",
       " 'lstat',\n",
       " 'makedirs',\n",
       " 'mkdir',\n",
       " 'name',\n",
       " 'open',\n",
       " 'pardir',\n",
       " 'path',\n",
       " 'pathsep',\n",
       " 'pipe',\n",
       " 'popen',\n",
       " 'putenv',\n",
       " 'read',\n",
       " 'readlink',\n",
       " 'remove',\n",
       " 'removedirs',\n",
       " 'rename',\n",
       " 'renames',\n",
       " 'replace',\n",
       " 'rmdir',\n",
       " 'scandir',\n",
       " 'sep',\n",
       " 'set_handle_inheritable',\n",
       " 'set_inheritable',\n",
       " 'spawnl',\n",
       " 'spawnle',\n",
       " 'spawnv',\n",
       " 'spawnve',\n",
       " 'st',\n",
       " 'startfile',\n",
       " 'stat',\n",
       " 'stat_float_times',\n",
       " 'stat_result',\n",
       " 'statvfs_result',\n",
       " 'strerror',\n",
       " 'supports_bytes_environ',\n",
       " 'supports_dir_fd',\n",
       " 'supports_effective_ids',\n",
       " 'supports_fd',\n",
       " 'supports_follow_symlinks',\n",
       " 'symlink',\n",
       " 'sys',\n",
       " 'system',\n",
       " 'terminal_size',\n",
       " 'times',\n",
       " 'times_result',\n",
       " 'truncate',\n",
       " 'umask',\n",
       " 'uname_result',\n",
       " 'unlink',\n",
       " 'urandom',\n",
       " 'utime',\n",
       " 'waitpid',\n",
       " 'walk',\n",
       " 'write']"
      ]
     },
     "execution_count": 4,
     "metadata": {},
     "output_type": "execute_result"
    }
   ],
   "source": [
    "#printing all the attributes present in a model\n",
    "\n",
    "dir(os)"
   ]
  },
  {
   "cell_type": "code",
   "execution_count": 5,
   "metadata": {
    "collapsed": false
   },
   "outputs": [
    {
     "data": {
      "text/plain": [
       "'C:\\\\Users\\\\suraj.kumar\\\\Documents\\\\py files'"
      ]
     },
     "execution_count": 5,
     "metadata": {},
     "output_type": "execute_result"
    }
   ],
   "source": [
    "#printing the current working directory\n",
    "\n",
    "os.getcwd()"
   ]
  },
  {
   "cell_type": "code",
   "execution_count": 6,
   "metadata": {
    "collapsed": true
   },
   "outputs": [],
   "source": [
    "#to change the directory you are working on\n",
    "\n",
    "os.chdir('C:\\\\Users\\\\suraj.kumar\\\\Documents\\\\py files')"
   ]
  },
  {
   "cell_type": "code",
   "execution_count": 7,
   "metadata": {
    "collapsed": false
   },
   "outputs": [
    {
     "data": {
      "text/plain": [
       "['.ipynb_checkpoints',\n",
       " '1.py_ml_sentdex.py',\n",
       " '10.Neural_Network_Example_Sentdex.py',\n",
       " '2.LinearReg_Sentdex.py',\n",
       " '2.py_ml_sentdex.py',\n",
       " '2017-05-23 (2).png',\n",
       " '3.1.KNeighbors_sentdex.py',\n",
       " '3.2.KNeighbors_Sentdex.py',\n",
       " '3.KNeighbors_sentdex.py',\n",
       " '4.1.SVM_Sentdex.py',\n",
       " '4.SVM_Sentdex.py',\n",
       " '5.clustering_example_Sentdex.py',\n",
       " '6.clustering_titanic_Sentdex.py',\n",
       " '6.Custom_KMeans_Sentdex.py',\n",
       " '7.MeanShift_Sentdex.py',\n",
       " '8.Custom_MeanShift_Sentdex.py',\n",
       " '9.TensorFLow_Intro_Sentdex.py',\n",
       " 'Assignment-2_pandas.txt.txt',\n",
       " 'Automate Parsing and Renaming of Multiple Files.ipynb',\n",
       " 'bunary_test_cases.py',\n",
       " 'check.py',\n",
       " 'check_tensorflow.py',\n",
       " 'Count_Vectoriser_practice.ipynb',\n",
       " 'dannon.py',\n",
       " 'Dannon_deduction_features_final_RF.py',\n",
       " 'danon_trade_col_rel.py',\n",
       " 'Data Generation.py',\n",
       " 'DataSchool Pandas.ipynb',\n",
       " 'DataSchool Sci-kit Learn.ipynb',\n",
       " 'DataScience_apz.pdf',\n",
       " 'del1.py',\n",
       " 'del2.py',\n",
       " 'DMS_trade_testcases.py',\n",
       " 'doubt.py',\n",
       " 'Extracting _the_data.ipynb',\n",
       " 'Final Join.ipynb',\n",
       " 'Final_OneClassSVM_result.txt',\n",
       " 'gp.py',\n",
       " 'gp_check.py',\n",
       " 'gp_check1.py',\n",
       " 'gp_test.py',\n",
       " 'Hacker_rank.py',\n",
       " 'hacker_submit.py',\n",
       " 'imp_info.py',\n",
       " 'Joins_AutoMatch.py',\n",
       " 'kiran_inst.py',\n",
       " 'kiran_inst1.py',\n",
       " 'linearregression.pickle',\n",
       " 'Metric_calc(1).py',\n",
       " 'ml1.py',\n",
       " 'ml3.py',\n",
       " 'ml_knn.py',\n",
       " 'ml_random_forests.py',\n",
       " 'Modelling.ipynb',\n",
       " 'Modelling1.ipynb',\n",
       " 'Modelling2.ipynb',\n",
       " 'Modelling3.ipynb',\n",
       " 'Modelling4.ipynb',\n",
       " 'Modelling5.ipynb',\n",
       " 'Modelling_Automatch-Copy1.ipynb',\n",
       " 'Modelling_Automatch.ipynb',\n",
       " 'new_automatch_danon.py',\n",
       " 'new_jami2.ipynb',\n",
       " 'nltk_practice_sentdex.ipynb',\n",
       " 'OneClassSVM.py',\n",
       " 'OneClassSVM1.py',\n",
       " 'OneClassSVM_result.txt',\n",
       " 'P&T_Collection_Team3.py',\n",
       " 'panda.py',\n",
       " 'pandas.ipynb',\n",
       " 'pmml.py',\n",
       " 'project_team3.py',\n",
       " 'project_team3_decision_tree.py',\n",
       " 'Python OS Module.ipynb',\n",
       " 'query.py',\n",
       " 'rb_dms.py',\n",
       " 'rb_dms_final.py',\n",
       " 'resolved.ipynb',\n",
       " 'rock.py',\n",
       " 'rock_paper.py',\n",
       " 'sentdex.py',\n",
       " 'shark_ninja.py',\n",
       " 'SHURTECH.ipynb',\n",
       " 'sh_nin.py',\n",
       " 'team3_lin_reg.py',\n",
       " 'team_3_log_reg.py',\n",
       " 'test.py',\n",
       " 'test1.py',\n",
       " 'test3.py',\n",
       " 'test4.py',\n",
       " 'test5.py',\n",
       " 'test6.py',\n",
       " 'test7.py',\n",
       " 'tic.py',\n",
       " 'tic_tac.py',\n",
       " 'Training Model.ipynb',\n",
       " 'tree.dot',\n",
       " 'tree1.dot',\n",
       " 'Untitled.ipynb',\n",
       " 'untitled0.py',\n",
       " 'Untitled1.ipynb']"
      ]
     },
     "execution_count": 7,
     "metadata": {},
     "output_type": "execute_result"
    }
   ],
   "source": [
    "# to see the contents of the cwd\n",
    "\n",
    "os.listdir()"
   ]
  },
  {
   "cell_type": "code",
   "execution_count": 21,
   "metadata": {
    "collapsed": true
   },
   "outputs": [],
   "source": [
    "# to create a new directory in cwd\n",
    "\n",
    "os.mkdir('hello')\n",
    "os.makedirs('hell/heaven')                  #can also make a sub directory within a directory"
   ]
  },
  {
   "cell_type": "code",
   "execution_count": 18,
   "metadata": {
    "collapsed": false
   },
   "outputs": [],
   "source": [
    "# to delete a directory\n",
    "\n",
    "os.rmdir('hello')\n",
    "os.removedirs('hell/heaven')               # remove directory recursively"
   ]
  },
  {
   "cell_type": "code",
   "execution_count": 22,
   "metadata": {
    "collapsed": false
   },
   "outputs": [],
   "source": [
    "# to rename a file\n",
    "\n",
    "os.rename('hello', 'hello_new')"
   ]
  },
  {
   "cell_type": "code",
   "execution_count": 23,
   "metadata": {
    "collapsed": false
   },
   "outputs": [
    {
     "data": {
      "text/plain": [
       "os.stat_result(st_mode=33206, st_ino=1688849860265081, st_dev=3463865362, st_nlink=1, st_uid=0, st_gid=0, st_size=4696, st_atime=1499323201, st_mtime=1499333798, st_ctime=1499323200)"
      ]
     },
     "execution_count": 23,
     "metadata": {},
     "output_type": "execute_result"
    }
   ],
   "source": [
    "# to get some stats and information of a file\n",
    "\n",
    "os.stat('del1.py')"
   ]
  },
  {
   "cell_type": "code",
   "execution_count": 26,
   "metadata": {
    "collapsed": false
   },
   "outputs": [
    {
     "data": {
      "text/plain": [
       "datetime.datetime(2017, 7, 6, 15, 6, 38, 251209)"
      ]
     },
     "execution_count": 26,
     "metadata": {},
     "output_type": "execute_result"
    }
   ],
   "source": [
    "# to convert the modification time(st_mtime) into human readable format\n",
    "\n",
    "from datetime import datetime\n",
    "\n",
    "mod_time = os.stat('del1.py').st_mtime\n",
    "datetime.fromtimestamp(mod_time)"
   ]
  },
  {
   "cell_type": "code",
   "execution_count": 31,
   "metadata": {
    "collapsed": false
   },
   "outputs": [
    {
     "name": "stdout",
     "output_type": "stream",
     "text": [
      "Directory path C:\\Users\\suraj.kumar\\Documents\\py files\n",
      "Dirnames ['.ipynb_checkpoints', 'hell', 'hello_new']\n",
      "File Names ['1.py_ml_sentdex.py', '10.Neural_Network_Example_Sentdex.py', '2.LinearReg_Sentdex.py', '2.py_ml_sentdex.py', '2017-05-23 (2).png', '3.1.KNeighbors_sentdex.py', '3.2.KNeighbors_Sentdex.py', '3.KNeighbors_sentdex.py', '4.1.SVM_Sentdex.py', '4.SVM_Sentdex.py', '5.clustering_example_Sentdex.py', '6.clustering_titanic_Sentdex.py', '6.Custom_KMeans_Sentdex.py', '7.MeanShift_Sentdex.py', '8.Custom_MeanShift_Sentdex.py', '9.TensorFLow_Intro_Sentdex.py', 'Assignment-2_pandas.txt.txt', 'Automate Parsing and Renaming of Multiple Files.ipynb', 'bunary_test_cases.py', 'check.py', 'check_tensorflow.py', 'Count_Vectoriser_practice.ipynb', 'dannon.py', 'Dannon_deduction_features_final_RF.py', 'danon_trade_col_rel.py', 'Data Generation.py', 'DataSchool Pandas.ipynb', 'DataSchool Sci-kit Learn.ipynb', 'DataScience_apz.pdf', 'del1.py', 'del2.py', 'DMS_trade_testcases.py', 'doubt.py', 'Extracting _the_data.ipynb', 'Final Join.ipynb', 'Final_OneClassSVM_result.txt', 'gp.py', 'gp_check.py', 'gp_check1.py', 'gp_test.py', 'Hacker_rank.py', 'hacker_submit.py', 'imp_info.py', 'Joins_AutoMatch.py', 'kiran_inst.py', 'kiran_inst1.py', 'linearregression.pickle', 'Metric_calc(1).py', 'ml1.py', 'ml3.py', 'ml_knn.py', 'ml_random_forests.py', 'Modelling.ipynb', 'Modelling1.ipynb', 'Modelling2.ipynb', 'Modelling3.ipynb', 'Modelling4.ipynb', 'Modelling5.ipynb', 'Modelling_Automatch-Copy1.ipynb', 'Modelling_Automatch.ipynb', 'new_automatch_danon.py', 'new_jami2.ipynb', 'nltk_practice_sentdex.ipynb', 'OneClassSVM.py', 'OneClassSVM1.py', 'OneClassSVM_result.txt', 'P&T_Collection_Team3.py', 'panda.py', 'pandas.ipynb', 'pmml.py', 'project_team3.py', 'project_team3_decision_tree.py', 'Python OS Module.ipynb', 'query.py', 'rb_dms.py', 'rb_dms_final.py', 'resolved.ipynb', 'rock.py', 'rock_paper.py', 'sentdex.py', 'shark_ninja.py', 'SHURTECH.ipynb', 'sh_nin.py', 'team3_lin_reg.py', 'team_3_log_reg.py', 'test.py', 'test1.py', 'test3.py', 'test4.py', 'test5.py', 'test6.py', 'test7.py', 'tic.py', 'tic_tac.py', 'Training Model.ipynb', 'tree.dot', 'tree1.dot', 'Untitled.ipynb', 'untitled0.py', 'Untitled1.ipynb']\n",
      "\n",
      "\n",
      "Directory path C:\\Users\\suraj.kumar\\Documents\\py files\\.ipynb_checkpoints\n",
      "Dirnames []\n",
      "File Names ['Automate Parsing and Renaming of Multiple Files-checkpoint.ipynb', 'Count_Vectoriser_practice-checkpoint.ipynb', 'DataSchool Pandas-checkpoint.ipynb', 'DataSchool Sci-kit Learn-checkpoint.ipynb', 'Extracting _the_data-checkpoint.ipynb', 'Final Join-checkpoint.ipynb', 'Modelling-checkpoint.ipynb', 'Modelling1-checkpoint.ipynb', 'Modelling2-checkpoint.ipynb', 'Modelling3-checkpoint.ipynb', 'Modelling4-checkpoint.ipynb', 'Modelling5-checkpoint.ipynb', 'Modelling_Automatch-checkpoint.ipynb', 'Modelling_Automatch-Copy1-checkpoint.ipynb', 'new_jami2-checkpoint.ipynb', 'nltk_practice_sentdex-checkpoint.ipynb', 'Python OS Module-checkpoint.ipynb', 'resolved-checkpoint.ipynb', 'SHURTECH-checkpoint.ipynb', 'Training Model-checkpoint.ipynb', 'Untitled-checkpoint.ipynb', 'Untitled1-checkpoint.ipynb']\n",
      "\n",
      "\n",
      "Directory path C:\\Users\\suraj.kumar\\Documents\\py files\\hell\n",
      "Dirnames ['heaven']\n",
      "File Names []\n",
      "\n",
      "\n",
      "Directory path C:\\Users\\suraj.kumar\\Documents\\py files\\hell\\heaven\n",
      "Dirnames []\n",
      "File Names []\n",
      "\n",
      "\n",
      "Directory path C:\\Users\\suraj.kumar\\Documents\\py files\\hello_new\n",
      "Dirnames []\n",
      "File Names []\n",
      "\n",
      "\n"
     ]
    }
   ],
   "source": [
    "# to walk through all the directories and sub directories\n",
    "\n",
    "for dirpath, dirnames, filenames in os.walk(os.getcwd()):\n",
    "    print('Directory path', dirpath)\n",
    "    print('Dirnames', dirnames)\n",
    "    print('File Names', filenames)\n",
    "    print('\\n')"
   ]
  },
  {
   "cell_type": "code",
   "execution_count": 32,
   "metadata": {
    "collapsed": false
   },
   "outputs": [
    {
     "data": {
      "text/plain": [
       "environ({'ALLUSERSPROFILE': 'C:\\\\ProgramData', 'APPDATA': 'C:\\\\Users\\\\suraj.kumar\\\\AppData\\\\Roaming', 'COMMONPROGRAMFILES': 'C:\\\\Program Files\\\\Common Files', 'COMMONPROGRAMFILES(X86)': 'C:\\\\Program Files (x86)\\\\Common Files', 'COMMONPROGRAMW6432': 'C:\\\\Program Files\\\\Common Files', 'COMPUTERNAME': 'NOTEBOOK558', 'COMSPEC': 'C:\\\\WINDOWS\\\\system32\\\\cmd.exe', 'HOMEDRIVE': 'C:', 'HOMEPATH': '\\\\Users\\\\suraj.kumar', 'LOCALAPPDATA': 'C:\\\\Users\\\\suraj.kumar\\\\AppData\\\\Local', 'LOGONSERVER': '\\\\\\\\NOTEBOOK558', 'NUMBER_OF_PROCESSORS': '4', 'ONEDRIVE': 'C:\\\\Users\\\\suraj.kumar\\\\OneDrive', 'OS': 'Windows_NT', 'PATH': 'C:\\\\Users\\\\suraj.kumar\\\\Anaconda3\\\\Library\\\\bin;C:\\\\Users\\\\suraj.kumar\\\\Anaconda3\\\\Library\\\\bin;C:\\\\Users\\\\suraj.kumar\\\\Anaconda3;C:\\\\Users\\\\suraj.kumar\\\\Anaconda3\\\\Library\\\\mingw-w64\\\\bin;C:\\\\Users\\\\suraj.kumar\\\\Anaconda3\\\\Library\\\\usr\\\\bin;C:\\\\Users\\\\suraj.kumar\\\\Anaconda3\\\\Library\\\\bin;C:\\\\Users\\\\suraj.kumar\\\\Anaconda3\\\\Scripts;C:\\\\Users\\\\suraj.kumar\\\\Anaconda3\\\\Library\\\\bin;C:\\\\WINDOWS\\\\system32;C:\\\\WINDOWS;C:\\\\WINDOWS\\\\System32\\\\Wbem;C:\\\\WINDOWS\\\\System32\\\\WindowsPowerShell\\\\v1.0\\\\;C:\\\\Program Files (x86)\\\\Skype\\\\Phone\\\\;C:\\\\Users\\\\suraj.kumar\\\\Anaconda3;C:\\\\Users\\\\suraj.kumar\\\\Anaconda3\\\\Scripts;C:\\\\Users\\\\suraj.kumar\\\\Anaconda3\\\\Library\\\\bin;C:\\\\Users\\\\suraj.kumar\\\\AppData\\\\Local\\\\Microsoft\\\\WindowsApps;', 'PATHEXT': '.COM;.EXE;.BAT;.CMD;.VBS;.VBE;.JS;.JSE;.WSF;.WSH;.MSC', 'PROCESSOR_ARCHITECTURE': 'AMD64', 'PROCESSOR_IDENTIFIER': 'Intel64 Family 6 Model 94 Stepping 3, GenuineIntel', 'PROCESSOR_LEVEL': '6', 'PROCESSOR_REVISION': '5e03', 'PROGRAMDATA': 'C:\\\\ProgramData', 'PROGRAMFILES': 'C:\\\\Program Files', 'PROGRAMFILES(X86)': 'C:\\\\Program Files (x86)', 'PROGRAMW6432': 'C:\\\\Program Files', 'PROMPT': 'export LIBMYSQL_ENABLE_CLEARTEXT_PLUGIN=1', 'PSMODULEPATH': 'C:\\\\Program Files\\\\WindowsPowerShell\\\\Modules;C:\\\\WINDOWS\\\\system32\\\\WindowsPowerShell\\\\v1.0\\\\Modules', 'PUBLIC': 'C:\\\\Users\\\\Public', 'SESSIONNAME': 'Console', 'SYSTEMDRIVE': 'C:', 'SYSTEMROOT': 'C:\\\\WINDOWS', 'TEMP': 'C:\\\\Users\\\\SURAJ~1.KUM\\\\AppData\\\\Local\\\\Temp', 'TMP': 'C:\\\\Users\\\\SURAJ~1.KUM\\\\AppData\\\\Local\\\\Temp', 'USERDOMAIN': 'NOTEBOOK558', 'USERDOMAIN_ROAMINGPROFILE': 'NOTEBOOK558', 'USERNAME': 'suraj.kumar', 'USERPROFILE': 'C:\\\\Users\\\\suraj.kumar', 'WINDIR': 'C:\\\\WINDOWS', 'CONDA_PREFIX': 'C:\\\\Users\\\\suraj.kumar\\\\Anaconda3', 'JPY_INTERRUPT_EVENT': '2560', 'IPY_INTERRUPT_EVENT': '2560', 'JPY_PARENT_PID': '1280', 'TERM': 'xterm-color', 'CLICOLOR': '1', 'PAGER': 'cat', 'GIT_PAGER': 'cat', 'MPLBACKEND': 'module://ipykernel.pylab.backend_inline'})"
      ]
     },
     "execution_count": 32,
     "metadata": {},
     "output_type": "execute_result"
    }
   ],
   "source": [
    "# to get all the environment variables\n",
    "os.environ"
   ]
  },
  {
   "cell_type": "code",
   "execution_count": 34,
   "metadata": {
    "collapsed": false
   },
   "outputs": [
    {
     "data": {
      "text/plain": [
       "'C:\\\\Users\\\\suraj.kumar'"
      ]
     },
     "execution_count": 34,
     "metadata": {},
     "output_type": "execute_result"
    }
   ],
   "source": [
    "# to print the home environment variable or home directory\n",
    "\n",
    "os.environ.get('USERPROFILE')"
   ]
  },
  {
   "cell_type": "code",
   "execution_count": 35,
   "metadata": {
    "collapsed": false
   },
   "outputs": [
    {
     "name": "stdout",
     "output_type": "stream",
     "text": [
      "C:\\Users\\suraj.kumar\\temp_file.txt\n"
     ]
    }
   ],
   "source": [
    "# to join path\n",
    "\n",
    "file_path = os.path.join(os.environ.get('USERPROFILE'), 'temp_file.txt')\n",
    "print(file_path)"
   ]
  },
  {
   "cell_type": "code",
   "execution_count": 36,
   "metadata": {
    "collapsed": false
   },
   "outputs": [
    {
     "data": {
      "text/plain": [
       "'filename.txt'"
      ]
     },
     "execution_count": 36,
     "metadata": {},
     "output_type": "execute_result"
    }
   ],
   "source": [
    "# to grab the file name from a path\n",
    "\n",
    "os.path.basename('/tmp/filename.txt')"
   ]
  },
  {
   "cell_type": "code",
   "execution_count": 37,
   "metadata": {
    "collapsed": false
   },
   "outputs": [
    {
     "data": {
      "text/plain": [
       "'/tmp'"
      ]
     },
     "execution_count": 37,
     "metadata": {},
     "output_type": "execute_result"
    }
   ],
   "source": [
    "# to grab the directory name from a path\n",
    "\n",
    "os.path.dirname('/tmp/filename.txt')"
   ]
  },
  {
   "cell_type": "code",
   "execution_count": 38,
   "metadata": {
    "collapsed": false
   },
   "outputs": [
    {
     "data": {
      "text/plain": [
       "('/tmp', 'filename.txt')"
      ]
     },
     "execution_count": 38,
     "metadata": {},
     "output_type": "execute_result"
    }
   ],
   "source": [
    "# to grab both the file name and directory name from a path\n",
    "\n",
    "os.path.split('/tmp/filename.txt')"
   ]
  },
  {
   "cell_type": "code",
   "execution_count": 39,
   "metadata": {
    "collapsed": false
   },
   "outputs": [
    {
     "data": {
      "text/plain": [
       "False"
      ]
     },
     "execution_count": 39,
     "metadata": {},
     "output_type": "execute_result"
    }
   ],
   "source": [
    "# to check the existence of a file\n",
    "\n",
    "os.path.exists('/tmp/filename.txt')"
   ]
  },
  {
   "cell_type": "code",
   "execution_count": 41,
   "metadata": {
    "collapsed": false
   },
   "outputs": [
    {
     "data": {
      "text/plain": [
       "True"
      ]
     },
     "execution_count": 41,
     "metadata": {},
     "output_type": "execute_result"
    }
   ],
   "source": [
    "#to check whether a document is a file or a directory\n",
    "\n",
    "os.path.isdir('E:/Jami/')"
   ]
  },
  {
   "cell_type": "code",
   "execution_count": 43,
   "metadata": {
    "collapsed": false
   },
   "outputs": [
    {
     "data": {
      "text/plain": [
       "True"
      ]
     },
     "execution_count": 43,
     "metadata": {},
     "output_type": "execute_result"
    }
   ],
   "source": [
    "#to check whether a document is a file or a directory\n",
    "\n",
    "os.path.isfile('E:/Jami1/GP1/Model/Modelling1/ddri.csv')"
   ]
  },
  {
   "cell_type": "code",
   "execution_count": 44,
   "metadata": {
    "collapsed": false
   },
   "outputs": [
    {
     "data": {
      "text/plain": [
       "('/tmmp/filename', '.txt')"
      ]
     },
     "execution_count": 44,
     "metadata": {},
     "output_type": "execute_result"
    }
   ],
   "source": [
    "# to split the file name and the extension\n",
    "\n",
    "os.path.splitext('/tmmp/filename.txt')"
   ]
  },
  {
   "cell_type": "code",
   "execution_count": null,
   "metadata": {
    "collapsed": true
   },
   "outputs": [],
   "source": []
  }
 ],
 "metadata": {
  "kernelspec": {
   "display_name": "Python 3",
   "language": "python",
   "name": "python3"
  },
  "language_info": {
   "codemirror_mode": {
    "name": "ipython",
    "version": 3
   },
   "file_extension": ".py",
   "mimetype": "text/x-python",
   "name": "python",
   "nbconvert_exporter": "python",
   "pygments_lexer": "ipython3",
   "version": "3.6.0"
  }
 },
 "nbformat": 4,
 "nbformat_minor": 2
}
