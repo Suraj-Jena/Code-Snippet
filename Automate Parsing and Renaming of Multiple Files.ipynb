{
 "cells": [
  {
   "cell_type": "code",
   "execution_count": 29,
   "metadata": {
    "collapsed": true
   },
   "outputs": [],
   "source": [
    "import os\n",
    "\n",
    "os.chdir('E:/Jami')"
   ]
  },
  {
   "cell_type": "code",
   "execution_count": 30,
   "metadata": {
    "collapsed": false
   },
   "outputs": [
    {
     "data": {
      "text/plain": [
       "'E:\\\\Jami'"
      ]
     },
     "execution_count": 30,
     "metadata": {},
     "output_type": "execute_result"
    }
   ],
   "source": [
    "os.getcwd()"
   ]
  },
  {
   "cell_type": "code",
   "execution_count": 31,
   "metadata": {
    "collapsed": false
   },
   "outputs": [],
   "source": [
    "#Creating the files in the directory\n",
    "\n",
    "listoffiles = [\n",
    "'Earth - Our Solar System - #4.mp4',\n",
    "'Jupiter - Our Solar System - #6.mp4',\n",
    "'Mars - Our Solar System - #5.mp4',\n",
    "'Mercury - Our Solar System - #2.mp4',\n",
    "'Neptune - Our Solar System - #8.mp4',\n",
    "'Pluto - Our Solar System - #10.mp4',\n",
    "'Saturn - Our Solar System - #7.mp4',\n",
    "'The Sun - Our Solar System - #1.mp4',\n",
    "'Uranus - Our Solar System - #9.mp4',\n",
    "'Venus - Our Solar System - #3.mp4'\n",
    "]\n",
    "\n",
    "for fname in listoffiles:\n",
    "    with open(fname, 'a'):\n",
    "        pass"
   ]
  },
  {
   "cell_type": "code",
   "execution_count": 32,
   "metadata": {
    "collapsed": false
   },
   "outputs": [
    {
     "name": "stdout",
     "output_type": "stream",
     "text": [
      "Earth - Our Solar System - #4.mp4\n",
      "Jupiter - Our Solar System - #6.mp4\n",
      "Mars - Our Solar System - #5.mp4\n",
      "Mercury - Our Solar System - #2.mp4\n",
      "Neptune - Our Solar System - #8.mp4\n",
      "Pluto - Our Solar System - #10.mp4\n",
      "Saturn - Our Solar System - #7.mp4\n",
      "The Sun - Our Solar System - #1.mp4\n",
      "Uranus - Our Solar System - #9.mp4\n",
      "Venus - Our Solar System - #3.mp4\n"
     ]
    }
   ],
   "source": [
    "#Checking the contents inside the directory\n",
    "\n",
    "for f in os.listdir():\n",
    "    print(f)"
   ]
  },
  {
   "cell_type": "code",
   "execution_count": 33,
   "metadata": {
    "collapsed": false
   },
   "outputs": [],
   "source": [
    "#Renaming the files in the directory as desired\n",
    "\n",
    "for f in os.listdir():\n",
    "    f_name, f_ext = os.path.splitext(f)\n",
    "    f_title, f_course, f_num = f_name.split('-')\n",
    "    f_title = f_title.strip()\n",
    "    f_course = f_course.strip()\n",
    "    f_num = f_num.strip()[1:].zfill(2)\n",
    "    new_name = '{}-{}{}'.format(f_num, f_title, f_ext)\n",
    "    os.rename(f, new_name)"
   ]
  },
  {
   "cell_type": "code",
   "execution_count": null,
   "metadata": {
    "collapsed": true
   },
   "outputs": [],
   "source": []
  }
 ],
 "metadata": {
  "kernelspec": {
   "display_name": "Python 3",
   "language": "python",
   "name": "python3"
  },
  "language_info": {
   "codemirror_mode": {
    "name": "ipython",
    "version": 3
   },
   "file_extension": ".py",
   "mimetype": "text/x-python",
   "name": "python",
   "nbconvert_exporter": "python",
   "pygments_lexer": "ipython3",
   "version": "3.6.0"
  }
 },
 "nbformat": 4,
 "nbformat_minor": 2
}
